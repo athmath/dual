{
 "cells": [
  {
   "cell_type": "code",
   "execution_count": 1,
   "id": "656a3254-078e-4479-a13c-f2e07451cc0d",
   "metadata": {},
   "outputs": [
    {
     "ename": "ModuleNotFoundError",
     "evalue": "No module named 'numpy'",
     "output_type": "error",
     "traceback": [
      "\u001b[31m---------------------------------------------------------------------------\u001b[39m",
      "\u001b[31mModuleNotFoundError\u001b[39m                       Traceback (most recent call last)",
      "\u001b[36mCell\u001b[39m\u001b[36m \u001b[39m\u001b[32mIn[1]\u001b[39m\u001b[32m, line 1\u001b[39m\n\u001b[32m----> \u001b[39m\u001b[32m1\u001b[39m \u001b[38;5;28;01mimport\u001b[39;00m\u001b[38;5;250m \u001b[39m\u001b[34;01mnumpy\u001b[39;00m\u001b[38;5;250m \u001b[39m\u001b[38;5;28;01mas\u001b[39;00m\u001b[38;5;250m \u001b[39m\u001b[34;01mnp\u001b[39;00m\n\u001b[32m      2\u001b[39m \u001b[38;5;28;01mimport\u001b[39;00m\u001b[38;5;250m \u001b[39m\u001b[34;01mmatplotlib\u001b[39;00m\u001b[34;01m.\u001b[39;00m\u001b[34;01mpyplot\u001b[39;00m\u001b[38;5;250m \u001b[39m\u001b[38;5;28;01mas\u001b[39;00m\u001b[38;5;250m \u001b[39m\u001b[34;01mplt\u001b[39;00m\n\u001b[32m      3\u001b[39m \u001b[38;5;28;01mfrom\u001b[39;00m\u001b[38;5;250m \u001b[39m\u001b[34;01mfunctools\u001b[39;00m\u001b[38;5;250m \u001b[39m\u001b[38;5;28;01mimport\u001b[39;00m partial\n",
      "\u001b[31mModuleNotFoundError\u001b[39m: No module named 'numpy'"
     ]
    }
   ],
   "source": [
    "import numpy as np\n",
    "import matplotlib.pyplot as plt\n",
    "from functools import partial"
   ]
  },
  {
   "cell_type": "markdown",
   "id": "eb448271-f5c0-4cf7-83a0-452586d45ceb",
   "metadata": {},
   "source": [
    "Define Generic Functions"
   ]
  },
  {
   "cell_type": "code",
   "execution_count": 2,
   "id": "cb46b51c-33b5-47f1-84ed-ef844d7411e0",
   "metadata": {},
   "outputs": [],
   "source": [
    "def W1(l1,l2,m1):\n",
    "    return 1/(m1-l1-l2)\n",
    "\n",
    "def W2(l1, l2, m1, m2):\n",
    "    return 1/(m1-l1-l2) + 1/(m2-l2)\n",
    "\n",
    "def H(l1, l2, m1, m2, theta):\n",
    "    return W1(l1, l2, m1) - theta * W2(l1, l2, m1, m2)\n",
    "\n",
    "def Q(r,L,l) :\n",
    "    return -np.log(1-l/L)/r"
   ]
  },
  {
   "cell_type": "markdown",
   "id": "577d7aab-3049-4c30-bf13-a761b063e3b4",
   "metadata": {},
   "source": [
    "Equilibrium Related Functions"
   ]
  },
  {
   "cell_type": "code",
   "execution_count": 3,
   "id": "5d510606-d13f-465d-90ac-363984106bb4",
   "metadata": {},
   "outputs": [],
   "source": [
    "def l0(m1,m2,theta,l2):\n",
    "    return (1-2*theta)*l2/theta + m1 - (1-theta) * m2/theta\n",
    "\n"
   ]
  },
  {
   "cell_type": "code",
   "execution_count": 5,
   "id": "0eba9238-b0d6-4b87-b68a-f86b0efef84b",
   "metadata": {
    "scrolled": true
   },
   "outputs": [
    {
     "data": {
      "text/plain": [
       "0.5333333333333332"
      ]
     },
     "execution_count": 5,
     "metadata": {},
     "output_type": "execute_result"
    }
   ],
   "source": [
    "H(2,5, 8, 11, 0.4)"
   ]
  },
  {
   "cell_type": "code",
   "execution_count": null,
   "id": "7bdb91b5-4adf-4b26-afba-7bfb8482dcd7",
   "metadata": {},
   "outputs": [],
   "source": [
    "l1_val = 1.0\n",
    "m1_val = 5.0\n",
    "m2_val = 6.0\n",
    "theta_val = np.pi / 4"
   ]
  },
  {
   "cell_type": "code",
   "execution_count": null,
   "id": "4eb79488-7992-4e66-826c-504029009a29",
   "metadata": {},
   "outputs": [],
   "source": []
  },
  {
   "cell_type": "code",
   "execution_count": 6,
   "id": "95df566b-b13c-4aad-97be-10e9520f81e1",
   "metadata": {},
   "outputs": [],
   "source": [
    "def l1(a,b,q):\n",
    "    def l2(x):\n",
    "        return a*(x+1)*(x-q) - b*x**(3/2)*np.sqrt(x-q)\n",
    "    return l2"
   ]
  },
  {
   "cell_type": "code",
   "execution_count": 7,
   "id": "7ee7e7d8-2dc5-41a6-aad5-f39dedc66705",
   "metadata": {},
   "outputs": [],
   "source": [
    "f=l1(2,3, 0.2)"
   ]
  },
  {
   "cell_type": "code",
   "execution_count": 8,
   "id": "3b7faa37-b37f-4076-a645-b6e940a608fa",
   "metadata": {},
   "outputs": [
    {
     "data": {
      "text/plain": [
       "np.float64(0.10411542731880105)"
      ]
     },
     "execution_count": 8,
     "metadata": {},
     "output_type": "execute_result"
    }
   ],
   "source": [
    "f(0.3)"
   ]
  },
  {
   "cell_type": "code",
   "execution_count": 17,
   "id": "135c171c-64bc-4635-8dab-16aa1c5ff6e9",
   "metadata": {},
   "outputs": [],
   "source": [
    "x=np.linspace(0.8, 1, 50)"
   ]
  },
  {
   "cell_type": "code",
   "execution_count": 18,
   "id": "bb0f04d4-b4ba-4ffa-a8da-950c78e1ad77",
   "metadata": {},
   "outputs": [],
   "source": [
    "y=f(x)"
   ]
  },
  {
   "cell_type": "code",
   "execution_count": 19,
   "id": "981ec730-a53c-4144-b2d0-6173290d4051",
   "metadata": {},
   "outputs": [
    {
     "data": {
      "text/plain": [
       "[<matplotlib.lines.Line2D at 0x2c2c684d290>]"
      ]
     },
     "execution_count": 19,
     "metadata": {},
     "output_type": "execute_result"
    },
    {
     "data": {
      "image/png": "[encoded data removed]",
      "text/plain": [
       "<Figure size 640x480 with 1 Axes>"
      ]
     },
     "metadata": {},
     "output_type": "display_data"
    }
   ],
   "source": [
    "plt.plot(x,y)"
   ]
  }
 ],
 "metadata": {
  "kernelspec": {
   "display_name": "Python 3",
   "language": "python",
   "name": "python3"
  },
  "language_info": {
   "codemirror_mode": {
    "name": "ipython",
    "version": 3
   },
   "file_extension": ".py",
   "mimetype": "text/x-python",
   "name": "python",
   "nbconvert_exporter": "python",
   "pygments_lexer": "ipython3",
   "version": "3.11.9"
  }
 },
 "nbformat": 4,
 "nbformat_minor": 5
}
