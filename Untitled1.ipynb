{
 "cells": [
  {
   "cell_type": "code",
   "execution_count": 1,
   "id": "0e2c9ab2-659f-4843-8bf5-883d58e12296",
   "metadata": {},
   "outputs": [],
   "source": [
    "import numpy as np"
   ]
  },
  {
   "cell_type": "code",
   "execution_count": 2,
   "id": "556341fe-b682-4437-8a6b-f485afa78622",
   "metadata": {},
   "outputs": [],
   "source": [
    "a=np.array([4,-3,5,2])"
   ]
  },
  {
   "cell_type": "code",
   "execution_count": 5,
   "id": "6b437248-1479-406a-b5c7-8c90428425e4",
   "metadata": {},
   "outputs": [
    {
     "data": {
      "text/plain": [
       "(4,)"
      ]
     },
     "execution_count": 5,
     "metadata": {},
     "output_type": "execute_result"
    }
   ],
   "source": [
    "a.shape"
   ]
  },
  {
   "cell_type": "code",
   "execution_count": 6,
   "id": "c5de9553-f4ee-4125-b9ae-3311d40c5202",
   "metadata": {},
   "outputs": [],
   "source": [
    "p=np.where(a>0)"
   ]
  },
  {
   "cell_type": "code",
   "execution_count": 7,
   "id": "b6508871-3e22-4990-8a29-2890aca97812",
   "metadata": {},
   "outputs": [
    {
     "name": "stdout",
     "output_type": "stream",
     "text": [
      "(array([0, 2, 3]),)\n"
     ]
    }
   ],
   "source": [
    "print(p)"
   ]
  },
  {
   "cell_type": "code",
   "execution_count": 9,
   "id": "c2fd51cf-c679-4abc-8539-b0ef67518a83",
   "metadata": {},
   "outputs": [
    {
     "name": "stdout",
     "output_type": "stream",
     "text": [
      "[1 0 1 1]\n"
     ]
    }
   ],
   "source": [
    "p1=np.where(a>0, 1,0)\n",
    "print(p1)"
   ]
  },
  {
   "cell_type": "code",
   "execution_count": 10,
   "id": "aac367cb-97f5-4521-86df-f7bffcad4587",
   "metadata": {},
   "outputs": [
    {
     "data": {
      "text/plain": [
       "(4,)"
      ]
     },
     "execution_count": 10,
     "metadata": {},
     "output_type": "execute_result"
    }
   ],
   "source": [
    "p1.shape"
   ]
  },
  {
   "cell_type": "code",
   "execution_count": 12,
   "id": "44fabdce-b31b-4189-8fb8-fd653290021e",
   "metadata": {},
   "outputs": [
    {
     "data": {
      "text/plain": [
       "array([[1, 0],\n",
       "       [1, 1]])"
      ]
     },
     "execution_count": 12,
     "metadata": {},
     "output_type": "execute_result"
    }
   ],
   "source": [
    "p1.reshape(2,2)"
   ]
  },
  {
   "cell_type": "code",
   "execution_count": 14,
   "id": "77033c83-7b82-4e63-98d7-7a81d76cdb9c",
   "metadata": {},
   "outputs": [],
   "source": [
    "b=np.random.rand(4)\n",
    "c=np.array([5,5,5,5])"
   ]
  },
  {
   "cell_type": "code",
   "execution_count": 15,
   "id": "02fff8c8-3c23-4d31-adca-44e0f1cae9be",
   "metadata": {},
   "outputs": [
    {
     "name": "stdout",
     "output_type": "stream",
     "text": [
      "[0.09175458 5.         0.92575665 0.97683668]\n"
     ]
    }
   ],
   "source": [
    "p2=np.where(a>0, b,c)\n",
    "print(p2)"
   ]
  }
 ],
 "metadata": {
  "kernelspec": {
   "display_name": "Python 3 (ipykernel)",
   "language": "python",
   "name": "python3"
  },
  "language_info": {
   "codemirror_mode": {
    "name": "ipython",
    "version": 3
   },
   "file_extension": ".py",
   "mimetype": "text/x-python",
   "name": "python",
   "nbconvert_exporter": "python",
   "pygments_lexer": "ipython3",
   "version": "3.11.9"
  }
 },
 "nbformat": 4,
 "nbformat_minor": 5
}
